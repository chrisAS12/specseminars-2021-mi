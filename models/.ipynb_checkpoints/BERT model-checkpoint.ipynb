{
 "cells": [
  {
   "cell_type": "markdown",
   "id": "3790b2f3",
   "metadata": {},
   "source": [
    "# #BERT MODEL"
   ]
  },
  {
   "cell_type": "markdown",
   "id": "c134529c",
   "metadata": {},
   "source": [
    "Made for specseminārs 2021. Author - Krišjānis Mārtiņš Alliks. Trained with latvian language. "
   ]
  },
  {
   "cell_type": "code",
   "execution_count": 5,
   "id": "a72cb061",
   "metadata": {
    "scrolled": false
   },
   "outputs": [
    {
     "name": "stdout",
     "output_type": "stream",
     "text": [
      "Finished importing\n"
     ]
    }
   ],
   "source": [
    "# Importing all the necessary libraries.\n",
    "import pandas as pd\n",
    "from sklearn.preprocessing import LabelEncoder\n",
    "from sklearn.model_selection import train_test_split"
   ]
  },
  {
   "cell_type": "markdown",
   "id": "99ae4dea",
   "metadata": {},
   "source": [
    " [CLS], [MASK], [SEP]  - TOKENS || Github: chrisAS12"
   ]
  },
  {
   "cell_type": "code",
   "execution_count": null,
   "id": "681e4c4a",
   "metadata": {},
   "outputs": [],
   "source": [
    "from tokenizers import ByteLevelBPETokenizer\n",
    "\n",
    "tokenizer = ByteLevelBPETokenizer()\n",
    "\n"
   ]
  }
 ],
 "metadata": {
  "kernelspec": {
   "display_name": "Python 3",
   "language": "python",
   "name": "python3"
  },
  "language_info": {
   "codemirror_mode": {
    "name": "ipython",
    "version": 3
   },
   "file_extension": ".py",
   "mimetype": "text/x-python",
   "name": "python",
   "nbconvert_exporter": "python",
   "pygments_lexer": "ipython3",
   "version": "3.8.8"
  }
 },
 "nbformat": 4,
 "nbformat_minor": 5
}
