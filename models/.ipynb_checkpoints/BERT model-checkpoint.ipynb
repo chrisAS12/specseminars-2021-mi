{
 "cells": [
  {
   "cell_type": "markdown",
   "id": "6776a85a",
   "metadata": {},
   "source": [
    "# #BERT MODEL"
   ]
  },
  {
   "cell_type": "markdown",
   "id": "8e3f7f42",
   "metadata": {},
   "source": [
    "Made for specseminārs 2021. Author - Krišjānis Mārtiņš Alliks. Trained with latvian language. "
   ]
  },
  {
   "cell_type": "code",
   "execution_count": 4,
   "id": "e7dd6e21",
   "metadata": {},
   "outputs": [
    {
     "data": {
      "text/plain": [
       "'3.8.8 (default, Apr 13 2021, 15:08:03) [MSC v.1916 64 bit (AMD64)]'"
      ]
     },
     "execution_count": 4,
     "metadata": {},
     "output_type": "execute_result"
    }
   ],
   "source": [
    "import sys\n",
    "sys.version"
   ]
  },
  {
   "cell_type": "code",
   "execution_count": 4,
   "id": "27a869ad",
   "metadata": {
    "scrolled": false
   },
   "outputs": [
    {
     "name": "stdout",
     "output_type": "stream",
     "text": [
      "Done!\n"
     ]
    }
   ],
   "source": [
    "# Importing all the necessary libraries.\n",
    "import pandas as pd\n",
    "from sklearn.preprocessing import LabelEncoder\n",
    "from sklearn.model_selection import train_test_split\n",
    "from tokenizers import ByteLevelBPETokenizer\n",
    "print(\"Done!\")"
   ]
  },
  {
   "cell_type": "markdown",
   "id": "dbee45b5",
   "metadata": {},
   "source": [
    " [CLS], [MASK], [SEP]  - TOKENS || Github: chrisAS12"
   ]
  },
  {
   "cell_type": "code",
   "execution_count": 27,
   "id": "1f0f1125",
   "metadata": {},
   "outputs": [
    {
     "name": "stdout",
     "output_type": "stream",
     "text": [
      "449515\n",
      "      Tomēr daudzi labi zināmi vēsturiski \"fakti\" patiesībā ir mīti, kas nav balstīti faktos. \n"
     ]
    }
   ],
   "source": [
    "sentences_path = \"../data/sentences_seperated_by_lines.txt\"\n",
    "word_list_path = \"../data/word_list_v6.txt\"\n",
    "f = open(word_list_path, encoding=\"utf-8\")\n",
    "vocab = f.read()\n",
    "size = len(set(vocab.split()))\n",
    "f = open(sentences_path, encoding=\"utf-8\")\n",
    "text = f.read().split(\"\\n\")\n",
    "print(size)\n",
    "print(text[4])"
   ]
  },
  {
   "cell_type": "code",
   "execution_count": 10,
   "id": "e04f8124",
   "metadata": {},
   "outputs": [],
   "source": [
    "tokenizer = ByteLevelBPETokenizer()\n",
    "tokenizer.train(files=sentences_path, vocab_size=size, min_frequency=2,\n",
    "                special_tokens=['<s>', '<pad>', '</s>', '<unk>', '<mask>'])"
   ]
  },
  {
   "cell_type": "code",
   "execution_count": 28,
   "id": "32a772ee",
   "metadata": {},
   "outputs": [
    {
     "name": "stdout",
     "output_type": "stream",
     "text": [
      "Encoding(num_tokens=19, attributes=[ids, type_ids, tokens, offsets, attention_mask, special_tokens_mask, overflowing])\n"
     ]
    }
   ],
   "source": [
    "import os\n",
    "\n",
    "#os.mkdir('./tokenizer_files')\n",
    "#tokenizer.save_model('tokenizerfile', 'models\\tokenizer_files')\n",
    "first_encode = tokenizer.encode(text[4])\n",
    "print(first_encode)"
   ]
  },
  {
   "cell_type": "code",
   "execution_count": null,
   "id": "e834623e",
   "metadata": {},
   "outputs": [],
   "source": []
  },
  {
   "cell_type": "code",
   "execution_count": null,
   "id": "f4660fb9",
   "metadata": {},
   "outputs": [],
   "source": []
  }
 ],
 "metadata": {
  "kernelspec": {
   "display_name": "my_rdkit_env",
   "language": "python",
   "name": "my_rdkit_env"
  },
  "language_info": {
   "codemirror_mode": {
    "name": "ipython",
    "version": 3
   },
   "file_extension": ".py",
   "mimetype": "text/x-python",
   "name": "python",
   "nbconvert_exporter": "python",
   "pygments_lexer": "ipython3",
   "version": "3.9.7"
  }
 },
 "nbformat": 4,
 "nbformat_minor": 5
}
