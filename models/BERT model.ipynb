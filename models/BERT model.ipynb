{
 "cells": [
  {
   "cell_type": "markdown",
   "id": "6776a85a",
   "metadata": {},
   "source": [
    "# #BERT MODEL"
   ]
  },
  {
   "cell_type": "markdown",
   "id": "8e3f7f42",
   "metadata": {},
   "source": [
    "Made for LU special seminar during the year 2021. Author - Krišjānis Mārtiņš Alliks. Trained with latvian language. "
   ]
  },
  {
   "cell_type": "code",
   "execution_count": 1,
   "id": "e7dd6e21",
   "metadata": {},
   "outputs": [
    {
     "data": {
      "text/plain": [
       "'3.9.7 | packaged by conda-forge | (default, Sep 29 2021, 19:20:16) [MSC v.1916 64 bit (AMD64)]'"
      ]
     },
     "execution_count": 1,
     "metadata": {},
     "output_type": "execute_result"
    }
   ],
   "source": [
    "import sys\n",
    "sys.version"
   ]
  },
  {
   "cell_type": "code",
   "execution_count": 2,
   "id": "27a869ad",
   "metadata": {
    "scrolled": false
   },
   "outputs": [
    {
     "name": "stdout",
     "output_type": "stream",
     "text": [
      "Done!\n"
     ]
    }
   ],
   "source": [
    "# Importing all the necessary libraries.\n",
    "import pandas as pd\n",
    "from sklearn.preprocessing import LabelEncoder\n",
    "from sklearn.model_selection import train_test_split\n",
    "from tokenizers import ByteLevelBPETokenizer\n",
    "print(\"Done!\")"
   ]
  },
  {
   "cell_type": "markdown",
   "id": "dbee45b5",
   "metadata": {},
   "source": [
    " [CLS], [MASK], [SEP]  - TOKENS || Github: chrisAS12"
   ]
  },
  {
   "cell_type": "code",
   "execution_count": 3,
   "id": "1f0f1125",
   "metadata": {},
   "outputs": [
    {
     "name": "stdout",
     "output_type": "stream",
     "text": [
      "449515\n",
      "Ieva paradīzes dārzā apēda ābolu\n"
     ]
    }
   ],
   "source": [
    "sentences_path = \"../data/sentences_seperated_by_lines_format.txt\"\n",
    "word_list_path = \"../data/word_list_v6.txt\"\n",
    "f = open(word_list_path, encoding=\"utf-8\")\n",
    "vocab = f.read()\n",
    "size = len(set(vocab.split()))\n",
    "f = open(sentences_path, encoding=\"utf-8\")\n",
    "text = f.read().split(\"\\n\")\n",
    "print(size)\n",
    "print(text[4])"
   ]
  },
  {
   "cell_type": "code",
   "execution_count": 5,
   "id": "e04f8124",
   "metadata": {},
   "outputs": [],
   "source": [
    "tokenizer = ByteLevelBPETokenizer()\n",
    "tokenizer.train(files=sentences_path, vocab_size=size, min_frequency=2,\n",
    "                special_tokens=['<s>', '<pad>', '</s>', '<unk>', '<mask>'])"
   ]
  },
  {
   "cell_type": "code",
   "execution_count": 6,
   "id": "32a772ee",
   "metadata": {},
   "outputs": [
    {
     "name": "stdout",
     "output_type": "stream",
     "text": [
      "Encoding(num_tokens=5, attributes=[ids, type_ids, tokens, offsets, attention_mask, special_tokens_mask, overflowing])\n",
      "['Ieva', 'ĠparadÄ«zes', 'ĠdÄģrzÄģ', 'ĠapÄĵda', 'ĠÄģbolu']\n"
     ]
    }
   ],
   "source": [
    "first_encode = tokenizer.encode(text[4])\n",
    "print(first_encode)\n",
    "print(first_encode.tokens)"
   ]
  },
  {
   "cell_type": "code",
   "execution_count": 8,
   "id": "e834623e",
   "metadata": {},
   "outputs": [
    {
     "data": {
      "text/plain": [
       "['C:/Users/chris/Desktop/specseminars/models/tokenizer\\\\vocab.json',\n",
       " 'C:/Users/chris/Desktop/specseminars/models/tokenizer\\\\merges.txt']"
      ]
     },
     "execution_count": 8,
     "metadata": {},
     "output_type": "execute_result"
    }
   ],
   "source": [
    "import os\n",
    "#os.mkdir('./tokenizer')\n",
    "tokenizer.save_model(\"C:/Users/chris/Desktop/specseminars/models/tokenizer\")"
   ]
  },
  {
   "cell_type": "code",
   "execution_count": 23,
   "id": "c3258793",
   "metadata": {},
   "outputs": [
    {
     "data": {
      "text/plain": [
       "<module 'tensorflow._api.v2.version' from 'C:\\\\Users\\\\chris\\\\anaconda3\\\\envs\\\\my-rdkit-env\\\\lib\\\\site-packages\\\\tensorflow\\\\_api\\\\v2\\\\version\\\\__init__.py'>"
      ]
     },
     "execution_count": 23,
     "metadata": {},
     "output_type": "execute_result"
    }
   ],
   "source": [
    "import tensorflow\n",
    "tensorflow.version"
   ]
  },
  {
   "cell_type": "code",
   "execution_count": 3,
   "id": "f4660fb9",
   "metadata": {},
   "outputs": [
    {
     "name": "stderr",
     "output_type": "stream",
     "text": [
      "file tokenizer_files\\config.json not found\n"
     ]
    },
    {
     "name": "stdout",
     "output_type": "stream",
     "text": [
      "Success!\n"
     ]
    }
   ],
   "source": [
    "import transformers\n",
    "robertaTokenizer = transformers.RobertaTokenizer.from_pretrained('tokenizer_files', max_len=512)\n",
    "print(\"Success!\")"
   ]
  },
  {
   "cell_type": "code",
   "execution_count": 4,
   "id": "4f5d9541",
   "metadata": {},
   "outputs": [
    {
     "name": "stdout",
     "output_type": "stream",
     "text": [
      "{'input_ids': [0, 272666, 315, 5897, 2], 'attention_mask': [1, 1, 1, 1, 1]}\n"
     ]
    }
   ],
   "source": [
    "tokens = robertaTokenizer(\"šodiena ir skaista\")\n",
    "print(tokens)"
   ]
  },
  {
   "cell_type": "code",
   "execution_count": 11,
   "id": "c6fdefef",
   "metadata": {},
   "outputs": [
    {
     "data": {
      "text/plain": [
       "[0, 272666, 315, 5897, 2]"
      ]
     },
     "execution_count": 11,
     "metadata": {},
     "output_type": "execute_result"
    }
   ],
   "source": [
    "tokens.input_ids"
   ]
  },
  {
   "cell_type": "code",
   "execution_count": 18,
   "id": "65561f34",
   "metadata": {},
   "outputs": [],
   "source": [
    "sentences_path = \"../data/sentences_seperated_by_lines_format.txt\"\n",
    "print(\"fail1\")\n",
    "with open(sentences_path, 'r', encoding='utf-8') as file:\n",
    "    lines = file.read().split('\\n')\n",
    "    print(\"fail2\")\n",
    "batch = robertaTokenizer(lines, max_length=512, padding='max_length', truncation=True)\n",
    "print(batch)\n",
    "print(\"fail3\")"
   ]
  },
  {
   "cell_type": "code",
   "execution_count": null,
   "id": "0af5648f",
   "metadata": {},
   "outputs": [],
   "source": []
  }
 ],
 "metadata": {
  "kernelspec": {
   "display_name": "my_rdkit_env",
   "language": "python",
   "name": "my_rdkit_env"
  },
  "language_info": {
   "codemirror_mode": {
    "name": "ipython",
    "version": 3
   },
   "file_extension": ".py",
   "mimetype": "text/x-python",
   "name": "python",
   "nbconvert_exporter": "python",
   "pygments_lexer": "ipython3",
   "version": "3.9.7"
  }
 },
 "nbformat": 4,
 "nbformat_minor": 5
}
